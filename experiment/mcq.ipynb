{
 "cells": [
  {
   "cell_type": "code",
   "execution_count": 1,
   "metadata": {},
   "outputs": [],
   "source": [
    "import os\n",
    "import json\n",
    "import pandas as pd\n",
    "import traceback"
   ]
  },
  {
   "cell_type": "code",
   "execution_count": 2,
   "metadata": {},
   "outputs": [],
   "source": [
    "from langchain_community.chat_models import ChatOpenAI"
   ]
  },
  {
   "cell_type": "code",
   "execution_count": 3,
   "metadata": {},
   "outputs": [
    {
     "data": {
      "text/plain": [
       "True"
      ]
     },
     "execution_count": 3,
     "metadata": {},
     "output_type": "execute_result"
    }
   ],
   "source": [
    "from dotenv import load_dotenv\n",
    "load_dotenv()"
   ]
  },
  {
   "cell_type": "code",
   "execution_count": 34,
   "metadata": {},
   "outputs": [],
   "source": [
    "key=os.getenv(\"OPENAI_API_KEY\")"
   ]
  },
  {
   "cell_type": "code",
   "execution_count": 5,
   "metadata": {},
   "outputs": [
    {
     "name": "stderr",
     "output_type": "stream",
     "text": [
      "d:\\mcqgen\\env\\lib\\site-packages\\langchain_core\\_api\\deprecation.py:139: LangChainDeprecationWarning: The class `ChatOpenAI` was deprecated in LangChain 0.0.10 and will be removed in 0.3.0. An updated version of the class exists in the langchain-openai package and should be used instead. To use it run `pip install -U langchain-openai` and import as `from langchain_openai import ChatOpenAI`.\n",
      "  warn_deprecated(\n"
     ]
    }
   ],
   "source": [
    "llm=ChatOpenAI(\n",
    "    openai_api_key=key,\n",
    "    model_name=\"gpt-3.5-turbo\",\n",
    "    temperature=0.5\n",
    ")"
   ]
  },
  {
   "cell_type": "code",
   "execution_count": 6,
   "metadata": {},
   "outputs": [],
   "source": [
    "from langchain.llms import OpenAI\n",
    "from langchain.prompts import PromptTemplate\n",
    "from langchain.chains import LLMChain\n",
    "from langchain.chains import SequentialChain\n",
    "from langchain.callbacks import get_openai_callback\n",
    "import PyPDF2"
   ]
  },
  {
   "cell_type": "code",
   "execution_count": 7,
   "metadata": {},
   "outputs": [],
   "source": [
    "response_json={\n",
    "    \"1\":{\n",
    "        \"mcq\":\"Multiple Choice Question\",\n",
    "        \"options\":{\n",
    "            \"a\":\"choice here\",\n",
    "            \"b\":\"choice here\",\n",
    "            \"c\":\"choice here\",\n",
    "            \"d\":\"choice here\"\n",
    "        },\n",
    "        \"correct\":\"correct answer\"\n",
    "    },\n",
    "    \"2\":{\n",
    "        \"mcq\":\"Multiple Choice Question\",\n",
    "        \"options\":{\n",
    "            \"a\":\"choice here\",\n",
    "            \"b\":\"choice here\",\n",
    "            \"c\":\"choice here\",\n",
    "            \"d\":\"choice here\"\n",
    "        },\n",
    "        \"correct\":\"correct answer\"\n",
    "    },\n",
    "    \"3\":{\n",
    "        \"mcq\":\"Multiple Choice Question\",\n",
    "        \"options\":{\n",
    "            \"a\":\"choice here\",\n",
    "            \"b\":\"choice here\",\n",
    "            \"c\":\"choice here\",\n",
    "            \"d\":\"choice here\"\n",
    "        },\n",
    "        \"correct\":\"correct answer\"\n",
    "    },\n",
    "}"
   ]
  },
  {
   "cell_type": "code",
   "execution_count": 8,
   "metadata": {},
   "outputs": [],
   "source": [
    "template=\"\"\"\n",
    "    Text:{text}\n",
    "    You are an expert MCQ maker. Given the above text, it is your job to \\\n",
    "    Create a quiz of {number} multiple choice questions for {subject} students in {tone} tone.\n",
    "    Mkae sure the questions are not repeated and check all the questions to be conforming the text as well.\n",
    "    Make sure to format your response like RESPONSE_JSON below and use it as a guide. \\\n",
    "    Ensure to make {number} MCQs\n",
    "    ### RESPONSE_JSON\n",
    "    {response_json}\n",
    "\"\"\""
   ]
  },
  {
   "cell_type": "code",
   "execution_count": 9,
   "metadata": {},
   "outputs": [],
   "source": [
    "quiz_generation_prompt=PromptTemplate(\n",
    "    input_variables=[\"text\",\"number\",\"subject\",\"tone\",\"response_json\"],\n",
    "    template=template\n",
    ")"
   ]
  },
  {
   "cell_type": "code",
   "execution_count": 10,
   "metadata": {},
   "outputs": [
    {
     "name": "stderr",
     "output_type": "stream",
     "text": [
      "d:\\mcqgen\\env\\lib\\site-packages\\langchain_core\\_api\\deprecation.py:139: LangChainDeprecationWarning: The class `LLMChain` was deprecated in LangChain 0.1.17 and will be removed in 1.0. Use RunnableSequence, e.g., `prompt | llm` instead.\n",
      "  warn_deprecated(\n"
     ]
    }
   ],
   "source": [
    "quiz_chain=LLMChain(llm=llm,prompt=quiz_generation_prompt,output_key=\"quiz\",verbose=True)"
   ]
  },
  {
   "cell_type": "code",
   "execution_count": 11,
   "metadata": {},
   "outputs": [],
   "source": [
    "template2=\"\"\"\n",
    "    You are an expert english grammerian writer. Given a Multiple Choice Quiz for {subject} students.\\\n",
    "    You need to evaluate the complexity of the question and give a complete analysis of the quiz. Only use at max 50 words for complexity\n",
    "    if the quiz is not at per with cognitive and analytical abilities of the students,\\\n",
    "    Upadate the quiz questions which needs to be change the tone such that it perfectly fits the students abilities\n",
    "    Quiz_MCQs:\n",
    "    {quiz}\n",
    "\n",
    "    Check from an expert English Writer of the above quiz:\n",
    "\"\"\""
   ]
  },
  {
   "cell_type": "code",
   "execution_count": 12,
   "metadata": {},
   "outputs": [],
   "source": [
    "quiz_evaluation_prompt=PromptTemplate(\n",
    "    input_variables=[\"subject\",\"quiz\"],\n",
    "    template=template2\n",
    ")"
   ]
  },
  {
   "cell_type": "code",
   "execution_count": 13,
   "metadata": {},
   "outputs": [],
   "source": [
    "review_chain=LLMChain(llm=llm,prompt=quiz_evaluation_prompt,output_key=\"review\",verbose=True)"
   ]
  },
  {
   "cell_type": "code",
   "execution_count": 14,
   "metadata": {},
   "outputs": [],
   "source": [
    "generate_evaluate_chain=SequentialChain(\n",
    "    chains=[quiz_chain,review_chain],\n",
    "    input_variables=[\"text\",\"number\",\"subject\",\"tone\",\"response_json\"],\n",
    "    output_variables=[\"quiz\",\"review\"],\n",
    "    verbose=True\n",
    ")"
   ]
  },
  {
   "cell_type": "code",
   "execution_count": 15,
   "metadata": {},
   "outputs": [],
   "source": [
    "file_path=r\"D:\\mcqgen\\data.txt\""
   ]
  },
  {
   "cell_type": "code",
   "execution_count": 16,
   "metadata": {},
   "outputs": [
    {
     "data": {
      "text/plain": [
       "'D:\\\\mcqgen\\\\data.txt'"
      ]
     },
     "execution_count": 16,
     "metadata": {},
     "output_type": "execute_result"
    }
   ],
   "source": [
    "file_path"
   ]
  },
  {
   "cell_type": "code",
   "execution_count": 17,
   "metadata": {},
   "outputs": [],
   "source": [
    "with open(file_path,\"r\") as fp:\n",
    "    text=fp.read()"
   ]
  },
  {
   "cell_type": "code",
   "execution_count": 18,
   "metadata": {},
   "outputs": [
    {
     "name": "stdout",
     "output_type": "stream",
     "text": [
      "Artificial intelligence (AI), in its broadest sense, is intelligence exhibited by machines, particularly computer systems. It is a field of research in computer science that develops and studies methods and software that enable machines to perceive their environment and use learning and intelligence to take actions that maximize their chances of achieving defined goals.[1] Such machines may be called AIs.\n",
      "\n",
      "Some high-profile applications of AI include advanced web search engines (e.g., Google Search); recommendation systems (used by YouTube, Amazon, and Netflix); interacting via human speech (e.g., Google Assistant, Siri, and Alexa); autonomous vehicles (e.g., Waymo); generative and creative tools (e.g., ChatGPT, Apple Intelligence, and AI art); and superhuman play and analysis in strategy games (e.g., chess and Go).[2] However, many AI applications are not perceived as AI: \"A lot of cutting edge AI has filtered into general applications, often without being called AI because once something becomes useful enough and common enough it's not labeled AI anymore.\"[3][4]\n",
      "\n",
      "Alan Turing was the first person to conduct substantial research in the field that he called machine intelligence.[5] Artificial intelligence was founded as an academic discipline in 1956,[6] by those now considered the founding fathers of AI, John McCarthy, Marvin Minksy, Nathaniel Rochester, and Claude Shannon.[7][8] The field went through multiple cycles of optimism,[9][10] followed by periods of disappointment and loss of funding, known as AI winter.[11][12] Funding and interest vastly increased after 2012 when deep learning surpassed all previous AI techniques,[13] and after 2017 with the transformer architecture.[14] This led to the AI boom of the early 2020s, with companies, universities, and laboratories overwhelmingly based in the United States pioneering significant advances in artificial intelligence.[15]\n",
      "\n",
      "The growing use of artificial intelligence in the 21st century is influencing a societal and economic shift towards increased automation, data-driven decision-making, and the integration of AI systems into various economic sectors and areas of life, impacting job markets, healthcare, government, industry, education, propaganda, and disinformation. This raises questions about the long-term effects, ethical implications, and risks of AI, prompting discussions about regulatory policies to ensure the safety and benefits of the technology.\n",
      "\n",
      "The various subfields of AI research are centered around particular goals and the use of particular tools. The traditional goals of AI research include reasoning, knowledge representation, planning, learning, natural language processing, perception, and support for robotics.[a] General intelligence—the ability to complete any task performable by a human on an at least equal level—is among the field's long-term goals.[16]\n",
      "\n",
      "To reach these goals, AI researchers have adapted and integrated a wide range of techniques, including search and mathematical optimization, formal logic, artificial neural networks, and methods based on statistics, operations research, and economics.[b] AI also draws upon psychology, linguistics, philosophy, neuroscience, and other fields.[17]\n"
     ]
    }
   ],
   "source": [
    "print(text)"
   ]
  },
  {
   "cell_type": "code",
   "execution_count": 19,
   "metadata": {},
   "outputs": [
    {
     "data": {
      "text/plain": [
       "'{\"1\": {\"mcq\": \"Multiple Choice Question\", \"options\": {\"a\": \"choice here\", \"b\": \"choice here\", \"c\": \"choice here\", \"d\": \"choice here\"}, \"correct\": \"correct answer\"}, \"2\": {\"mcq\": \"Multiple Choice Question\", \"options\": {\"a\": \"choice here\", \"b\": \"choice here\", \"c\": \"choice here\", \"d\": \"choice here\"}, \"correct\": \"correct answer\"}, \"3\": {\"mcq\": \"Multiple Choice Question\", \"options\": {\"a\": \"choice here\", \"b\": \"choice here\", \"c\": \"choice here\", \"d\": \"choice here\"}, \"correct\": \"correct answer\"}}'"
      ]
     },
     "execution_count": 19,
     "metadata": {},
     "output_type": "execute_result"
    }
   ],
   "source": [
    "json.dumps(response_json)"
   ]
  },
  {
   "cell_type": "code",
   "execution_count": 20,
   "metadata": {},
   "outputs": [],
   "source": [
    "number=5\n",
    "subject=\"Artificial Intelligence\"\n",
    "tone=\"Simple\""
   ]
  },
  {
   "cell_type": "code",
   "execution_count": 21,
   "metadata": {},
   "outputs": [
    {
     "name": "stdout",
     "output_type": "stream",
     "text": [
      "\n",
      "\n",
      "\u001b[1m> Entering new SequentialChain chain...\u001b[0m\n",
      "\n",
      "\n",
      "\u001b[1m> Entering new LLMChain chain...\u001b[0m\n",
      "Prompt after formatting:\n",
      "\u001b[32;1m\u001b[1;3m\n",
      "    Text:Artificial intelligence (AI), in its broadest sense, is intelligence exhibited by machines, particularly computer systems. It is a field of research in computer science that develops and studies methods and software that enable machines to perceive their environment and use learning and intelligence to take actions that maximize their chances of achieving defined goals.[1] Such machines may be called AIs.\n",
      "\n",
      "Some high-profile applications of AI include advanced web search engines (e.g., Google Search); recommendation systems (used by YouTube, Amazon, and Netflix); interacting via human speech (e.g., Google Assistant, Siri, and Alexa); autonomous vehicles (e.g., Waymo); generative and creative tools (e.g., ChatGPT, Apple Intelligence, and AI art); and superhuman play and analysis in strategy games (e.g., chess and Go).[2] However, many AI applications are not perceived as AI: \"A lot of cutting edge AI has filtered into general applications, often without being called AI because once something becomes useful enough and common enough it's not labeled AI anymore.\"[3][4]\n",
      "\n",
      "Alan Turing was the first person to conduct substantial research in the field that he called machine intelligence.[5] Artificial intelligence was founded as an academic discipline in 1956,[6] by those now considered the founding fathers of AI, John McCarthy, Marvin Minksy, Nathaniel Rochester, and Claude Shannon.[7][8] The field went through multiple cycles of optimism,[9][10] followed by periods of disappointment and loss of funding, known as AI winter.[11][12] Funding and interest vastly increased after 2012 when deep learning surpassed all previous AI techniques,[13] and after 2017 with the transformer architecture.[14] This led to the AI boom of the early 2020s, with companies, universities, and laboratories overwhelmingly based in the United States pioneering significant advances in artificial intelligence.[15]\n",
      "\n",
      "The growing use of artificial intelligence in the 21st century is influencing a societal and economic shift towards increased automation, data-driven decision-making, and the integration of AI systems into various economic sectors and areas of life, impacting job markets, healthcare, government, industry, education, propaganda, and disinformation. This raises questions about the long-term effects, ethical implications, and risks of AI, prompting discussions about regulatory policies to ensure the safety and benefits of the technology.\n",
      "\n",
      "The various subfields of AI research are centered around particular goals and the use of particular tools. The traditional goals of AI research include reasoning, knowledge representation, planning, learning, natural language processing, perception, and support for robotics.[a] General intelligence—the ability to complete any task performable by a human on an at least equal level—is among the field's long-term goals.[16]\n",
      "\n",
      "To reach these goals, AI researchers have adapted and integrated a wide range of techniques, including search and mathematical optimization, formal logic, artificial neural networks, and methods based on statistics, operations research, and economics.[b] AI also draws upon psychology, linguistics, philosophy, neuroscience, and other fields.[17]\n",
      "    You are an expert MCQ maker. Given the above text, it is your job to     Create a quiz of 5 multiple choice questions for Artificial Intelligence students in Simple tone.\n",
      "    Mkae sure the questions are not repeated and check all the questions to be conforming the text as well.\n",
      "    Make sure to format your response like RESPONSE_JSON below and use it as a guide.     Ensure to make 5 MCQs\n",
      "    ### RESPONSE_JSON\n",
      "    {\"1\": {\"mcq\": \"Multiple Choice Question\", \"options\": {\"a\": \"choice here\", \"b\": \"choice here\", \"c\": \"choice here\", \"d\": \"choice here\"}, \"correct\": \"correct answer\"}, \"2\": {\"mcq\": \"Multiple Choice Question\", \"options\": {\"a\": \"choice here\", \"b\": \"choice here\", \"c\": \"choice here\", \"d\": \"choice here\"}, \"correct\": \"correct answer\"}, \"3\": {\"mcq\": \"Multiple Choice Question\", \"options\": {\"a\": \"choice here\", \"b\": \"choice here\", \"c\": \"choice here\", \"d\": \"choice here\"}, \"correct\": \"correct answer\"}}\n",
      "\u001b[0m\n"
     ]
    },
    {
     "name": "stderr",
     "output_type": "stream",
     "text": [
      "d:\\mcqgen\\env\\lib\\site-packages\\langchain_core\\_api\\deprecation.py:139: LangChainDeprecationWarning: The method `Chain.__call__` was deprecated in langchain 0.1.0 and will be removed in 0.3.0. Use invoke instead.\n",
      "  warn_deprecated(\n"
     ]
    },
    {
     "name": "stdout",
     "output_type": "stream",
     "text": [
      "\n",
      "\u001b[1m> Finished chain.\u001b[0m\n",
      "\n",
      "\n",
      "\u001b[1m> Entering new LLMChain chain...\u001b[0m\n",
      "Prompt after formatting:\n",
      "\u001b[32;1m\u001b[1;3m\n",
      "    You are an expert english grammerian writer. Given a Multiple Choice Quiz for Artificial Intelligence students.    You need to evaluate the complexity of the question and give a complete analysis of the quiz. Only use at max 50 words for complexity\n",
      "    if the quiz is not at per with cognitive and analytical abilities of the students,    Upadate the quiz questions which needs to be change the tone such that it perfectly fits the students abilities\n",
      "    Quiz_MCQs:\n",
      "    {\n",
      "    \"1\": {\n",
      "        \"mcq\": \"What is the broadest sense of Artificial Intelligence (AI)?\",\n",
      "        \"options\": {\n",
      "            \"a\": \"Intelligence exhibited by humans\",\n",
      "            \"b\": \"Intelligence exhibited by machines\",\n",
      "            \"c\": \"Intelligence exhibited by animals\",\n",
      "            \"d\": \"Intelligence exhibited by plants\"\n",
      "        },\n",
      "        \"correct\": \"b\"\n",
      "    },\n",
      "    \"2\": {\n",
      "        \"mcq\": \"Who was the first person to conduct substantial research in machine intelligence?\",\n",
      "        \"options\": {\n",
      "            \"a\": \"John McCarthy\",\n",
      "            \"b\": \"Marvin Minksy\",\n",
      "            \"c\": \"Nathaniel Rochester\",\n",
      "            \"d\": \"Alan Turing\"\n",
      "        },\n",
      "        \"correct\": \"d\"\n",
      "    },\n",
      "    \"3\": {\n",
      "        \"mcq\": \"What is the field of research in computer science that develops methods and software for machines to perceive their environment?\",\n",
      "        \"options\": {\n",
      "            \"a\": \"Robotics\",\n",
      "            \"b\": \"Artificial Intelligence\",\n",
      "            \"c\": \"Data Science\",\n",
      "            \"d\": \"Cybersecurity\"\n",
      "        },\n",
      "        \"correct\": \"b\"\n",
      "    },\n",
      "    \"4\": {\n",
      "        \"mcq\": \"Which technique surpassed all previous AI techniques after 2012?\",\n",
      "        \"options\": {\n",
      "            \"a\": \"Search and mathematical optimization\",\n",
      "            \"b\": \"Formal logic\",\n",
      "            \"c\": \"Deep learning\",\n",
      "            \"d\": \"Artificial neural networks\"\n",
      "        },\n",
      "        \"correct\": \"c\"\n",
      "    },\n",
      "    \"5\": {\n",
      "        \"mcq\": \"What is among the long-term goals of AI research?\",\n",
      "        \"options\": {\n",
      "            \"a\": \"Building robots with emotions\",\n",
      "            \"b\": \"Achieving general intelligence\",\n",
      "            \"c\": \"Creating self-aware machines\",\n",
      "            \"d\": \"Developing time travel technology\"\n",
      "        },\n",
      "        \"correct\": \"b\"\n",
      "    }\n",
      "}\n",
      "\n",
      "    Check from an expert English Writer of the above quiz:\n",
      "\u001b[0m\n",
      "\n",
      "\u001b[1m> Finished chain.\u001b[0m\n",
      "\n",
      "\u001b[1m> Finished chain.\u001b[0m\n"
     ]
    }
   ],
   "source": [
    "with get_openai_callback() as cb:\n",
    "    response=generate_evaluate_chain(\n",
    "        {\n",
    "            \"text\": text,\n",
    "            \"number\": number,\n",
    "            \"subject\":subject,\n",
    "            \"tone\": tone,\n",
    "            \"response_json\": json.dumps(response_json)\n",
    "        }\n",
    "        )"
   ]
  },
  {
   "cell_type": "code",
   "execution_count": 22,
   "metadata": {},
   "outputs": [
    {
     "name": "stdout",
     "output_type": "stream",
     "text": [
      "Total Tokens :1841\n",
      "Prompt Tokens :1388\n",
      "Completion Tokens :453\n",
      "Total cost :0.0029879999999999998\n"
     ]
    }
   ],
   "source": [
    "print(f\"Total Tokens :{cb.total_tokens}\")\n",
    "print(f\"Prompt Tokens :{cb.prompt_tokens}\")\n",
    "print(f\"Completion Tokens :{cb.completion_tokens}\")\n",
    "print(f\"Total cost :{cb.total_cost}\")"
   ]
  },
  {
   "cell_type": "code",
   "execution_count": 23,
   "metadata": {},
   "outputs": [
    {
     "data": {
      "text/plain": [
       "{'text': 'Artificial intelligence (AI), in its broadest sense, is intelligence exhibited by machines, particularly computer systems. It is a field of research in computer science that develops and studies methods and software that enable machines to perceive their environment and use learning and intelligence to take actions that maximize their chances of achieving defined goals.[1] Such machines may be called AIs.\\n\\nSome high-profile applications of AI include advanced web search engines (e.g., Google Search); recommendation systems (used by YouTube, Amazon, and Netflix); interacting via human speech (e.g., Google Assistant, Siri, and Alexa); autonomous vehicles (e.g., Waymo); generative and creative tools (e.g., ChatGPT, Apple Intelligence, and AI art); and superhuman play and analysis in strategy games (e.g., chess and Go).[2] However, many AI applications are not perceived as AI: \"A lot of cutting edge AI has filtered into general applications, often without being called AI because once something becomes useful enough and common enough it\\'s not labeled AI anymore.\"[3][4]\\n\\nAlan Turing was the first person to conduct substantial research in the field that he called machine intelligence.[5] Artificial intelligence was founded as an academic discipline in 1956,[6] by those now considered the founding fathers of AI, John McCarthy, Marvin Minksy, Nathaniel Rochester, and Claude Shannon.[7][8] The field went through multiple cycles of optimism,[9][10] followed by periods of disappointment and loss of funding, known as AI winter.[11][12] Funding and interest vastly increased after 2012 when deep learning surpassed all previous AI techniques,[13] and after 2017 with the transformer architecture.[14] This led to the AI boom of the early 2020s, with companies, universities, and laboratories overwhelmingly based in the United States pioneering significant advances in artificial intelligence.[15]\\n\\nThe growing use of artificial intelligence in the 21st century is influencing a societal and economic shift towards increased automation, data-driven decision-making, and the integration of AI systems into various economic sectors and areas of life, impacting job markets, healthcare, government, industry, education, propaganda, and disinformation. This raises questions about the long-term effects, ethical implications, and risks of AI, prompting discussions about regulatory policies to ensure the safety and benefits of the technology.\\n\\nThe various subfields of AI research are centered around particular goals and the use of particular tools. The traditional goals of AI research include reasoning, knowledge representation, planning, learning, natural language processing, perception, and support for robotics.[a] General intelligence—the ability to complete any task performable by a human on an at least equal level—is among the field\\'s long-term goals.[16]\\n\\nTo reach these goals, AI researchers have adapted and integrated a wide range of techniques, including search and mathematical optimization, formal logic, artificial neural networks, and methods based on statistics, operations research, and economics.[b] AI also draws upon psychology, linguistics, philosophy, neuroscience, and other fields.[17]',\n",
       " 'number': 5,\n",
       " 'subject': 'Artificial Intelligence',\n",
       " 'tone': 'Simple',\n",
       " 'response_json': '{\"1\": {\"mcq\": \"Multiple Choice Question\", \"options\": {\"a\": \"choice here\", \"b\": \"choice here\", \"c\": \"choice here\", \"d\": \"choice here\"}, \"correct\": \"correct answer\"}, \"2\": {\"mcq\": \"Multiple Choice Question\", \"options\": {\"a\": \"choice here\", \"b\": \"choice here\", \"c\": \"choice here\", \"d\": \"choice here\"}, \"correct\": \"correct answer\"}, \"3\": {\"mcq\": \"Multiple Choice Question\", \"options\": {\"a\": \"choice here\", \"b\": \"choice here\", \"c\": \"choice here\", \"d\": \"choice here\"}, \"correct\": \"correct answer\"}}',\n",
       " 'quiz': '{\\n    \"1\": {\\n        \"mcq\": \"What is the broadest sense of Artificial Intelligence (AI)?\",\\n        \"options\": {\\n            \"a\": \"Intelligence exhibited by humans\",\\n            \"b\": \"Intelligence exhibited by machines\",\\n            \"c\": \"Intelligence exhibited by animals\",\\n            \"d\": \"Intelligence exhibited by plants\"\\n        },\\n        \"correct\": \"b\"\\n    },\\n    \"2\": {\\n        \"mcq\": \"Who was the first person to conduct substantial research in machine intelligence?\",\\n        \"options\": {\\n            \"a\": \"John McCarthy\",\\n            \"b\": \"Marvin Minksy\",\\n            \"c\": \"Nathaniel Rochester\",\\n            \"d\": \"Alan Turing\"\\n        },\\n        \"correct\": \"d\"\\n    },\\n    \"3\": {\\n        \"mcq\": \"What is the field of research in computer science that develops methods and software for machines to perceive their environment?\",\\n        \"options\": {\\n            \"a\": \"Robotics\",\\n            \"b\": \"Artificial Intelligence\",\\n            \"c\": \"Data Science\",\\n            \"d\": \"Cybersecurity\"\\n        },\\n        \"correct\": \"b\"\\n    },\\n    \"4\": {\\n        \"mcq\": \"Which technique surpassed all previous AI techniques after 2012?\",\\n        \"options\": {\\n            \"a\": \"Search and mathematical optimization\",\\n            \"b\": \"Formal logic\",\\n            \"c\": \"Deep learning\",\\n            \"d\": \"Artificial neural networks\"\\n        },\\n        \"correct\": \"c\"\\n    },\\n    \"5\": {\\n        \"mcq\": \"What is among the long-term goals of AI research?\",\\n        \"options\": {\\n            \"a\": \"Building robots with emotions\",\\n            \"b\": \"Achieving general intelligence\",\\n            \"c\": \"Creating self-aware machines\",\\n            \"d\": \"Developing time travel technology\"\\n        },\\n        \"correct\": \"b\"\\n    }\\n}',\n",
       " 'review': 'The complexity of the quiz questions is suitable for Artificial Intelligence students as it covers a range of topics from the broad sense of AI to historical figures in the field. The questions are clear and concise, requiring analytical thinking to select the correct answers. No changes are needed.'}"
      ]
     },
     "execution_count": 23,
     "metadata": {},
     "output_type": "execute_result"
    }
   ],
   "source": [
    "response"
   ]
  },
  {
   "cell_type": "code",
   "execution_count": 24,
   "metadata": {},
   "outputs": [],
   "source": [
    "quiz=response.get(\"quiz\")"
   ]
  },
  {
   "cell_type": "code",
   "execution_count": 25,
   "metadata": {},
   "outputs": [
    {
     "data": {
      "text/plain": [
       "{'1': {'mcq': 'What is the broadest sense of Artificial Intelligence (AI)?',\n",
       "  'options': {'a': 'Intelligence exhibited by humans',\n",
       "   'b': 'Intelligence exhibited by machines',\n",
       "   'c': 'Intelligence exhibited by animals',\n",
       "   'd': 'Intelligence exhibited by plants'},\n",
       "  'correct': 'b'},\n",
       " '2': {'mcq': 'Who was the first person to conduct substantial research in machine intelligence?',\n",
       "  'options': {'a': 'John McCarthy',\n",
       "   'b': 'Marvin Minksy',\n",
       "   'c': 'Nathaniel Rochester',\n",
       "   'd': 'Alan Turing'},\n",
       "  'correct': 'd'},\n",
       " '3': {'mcq': 'What is the field of research in computer science that develops methods and software for machines to perceive their environment?',\n",
       "  'options': {'a': 'Robotics',\n",
       "   'b': 'Artificial Intelligence',\n",
       "   'c': 'Data Science',\n",
       "   'd': 'Cybersecurity'},\n",
       "  'correct': 'b'},\n",
       " '4': {'mcq': 'Which technique surpassed all previous AI techniques after 2012?',\n",
       "  'options': {'a': 'Search and mathematical optimization',\n",
       "   'b': 'Formal logic',\n",
       "   'c': 'Deep learning',\n",
       "   'd': 'Artificial neural networks'},\n",
       "  'correct': 'c'},\n",
       " '5': {'mcq': 'What is among the long-term goals of AI research?',\n",
       "  'options': {'a': 'Building robots with emotions',\n",
       "   'b': 'Achieving general intelligence',\n",
       "   'c': 'Creating self-aware machines',\n",
       "   'd': 'Developing time travel technology'},\n",
       "  'correct': 'b'}}"
      ]
     },
     "execution_count": 25,
     "metadata": {},
     "output_type": "execute_result"
    }
   ],
   "source": [
    "json.loads(quiz)"
   ]
  },
  {
   "cell_type": "code",
   "execution_count": 26,
   "metadata": {},
   "outputs": [],
   "source": [
    "quiz_sample=json.loads(quiz)"
   ]
  },
  {
   "cell_type": "code",
   "execution_count": 27,
   "metadata": {},
   "outputs": [],
   "source": [
    "quiz_final=[]\n",
    "for key,value in quiz_sample.items():\n",
    "    mcq=value[\"mcq\"]\n",
    "    options=\" | \".join(\n",
    "        [f\"{option} : {option_value}\" for option,option_value in value[\"options\"].items()]\n",
    "    )\n",
    "    correct=value[\"correct\"]\n",
    "    quiz_final.append({\"mcq\":mcq,\"options\":options,\"correct\":correct})"
   ]
  },
  {
   "cell_type": "code",
   "execution_count": 28,
   "metadata": {},
   "outputs": [
    {
     "data": {
      "text/plain": [
       "[{'mcq': 'What is the broadest sense of Artificial Intelligence (AI)?',\n",
       "  'options': 'a : Intelligence exhibited by humans | b : Intelligence exhibited by machines | c : Intelligence exhibited by animals | d : Intelligence exhibited by plants',\n",
       "  'correct': 'b'},\n",
       " {'mcq': 'Who was the first person to conduct substantial research in machine intelligence?',\n",
       "  'options': 'a : John McCarthy | b : Marvin Minksy | c : Nathaniel Rochester | d : Alan Turing',\n",
       "  'correct': 'd'},\n",
       " {'mcq': 'What is the field of research in computer science that develops methods and software for machines to perceive their environment?',\n",
       "  'options': 'a : Robotics | b : Artificial Intelligence | c : Data Science | d : Cybersecurity',\n",
       "  'correct': 'b'},\n",
       " {'mcq': 'Which technique surpassed all previous AI techniques after 2012?',\n",
       "  'options': 'a : Search and mathematical optimization | b : Formal logic | c : Deep learning | d : Artificial neural networks',\n",
       "  'correct': 'c'},\n",
       " {'mcq': 'What is among the long-term goals of AI research?',\n",
       "  'options': 'a : Building robots with emotions | b : Achieving general intelligence | c : Creating self-aware machines | d : Developing time travel technology',\n",
       "  'correct': 'b'}]"
      ]
     },
     "execution_count": 28,
     "metadata": {},
     "output_type": "execute_result"
    }
   ],
   "source": [
    "quiz_final"
   ]
  },
  {
   "cell_type": "code",
   "execution_count": 29,
   "metadata": {},
   "outputs": [],
   "source": [
    "quiz=pd.DataFrame(quiz_final)"
   ]
  },
  {
   "cell_type": "code",
   "execution_count": 30,
   "metadata": {},
   "outputs": [
    {
     "data": {
      "text/html": [
       "<div>\n",
       "<style scoped>\n",
       "    .dataframe tbody tr th:only-of-type {\n",
       "        vertical-align: middle;\n",
       "    }\n",
       "\n",
       "    .dataframe tbody tr th {\n",
       "        vertical-align: top;\n",
       "    }\n",
       "\n",
       "    .dataframe thead th {\n",
       "        text-align: right;\n",
       "    }\n",
       "</style>\n",
       "<table border=\"1\" class=\"dataframe\">\n",
       "  <thead>\n",
       "    <tr style=\"text-align: right;\">\n",
       "      <th></th>\n",
       "      <th>mcq</th>\n",
       "      <th>options</th>\n",
       "      <th>correct</th>\n",
       "    </tr>\n",
       "  </thead>\n",
       "  <tbody>\n",
       "    <tr>\n",
       "      <th>0</th>\n",
       "      <td>What is the broadest sense of Artificial Intel...</td>\n",
       "      <td>a : Intelligence exhibited by humans | b : Int...</td>\n",
       "      <td>b</td>\n",
       "    </tr>\n",
       "    <tr>\n",
       "      <th>1</th>\n",
       "      <td>Who was the first person to conduct substantia...</td>\n",
       "      <td>a : John McCarthy | b : Marvin Minksy | c : Na...</td>\n",
       "      <td>d</td>\n",
       "    </tr>\n",
       "    <tr>\n",
       "      <th>2</th>\n",
       "      <td>What is the field of research in computer scie...</td>\n",
       "      <td>a : Robotics | b : Artificial Intelligence | c...</td>\n",
       "      <td>b</td>\n",
       "    </tr>\n",
       "    <tr>\n",
       "      <th>3</th>\n",
       "      <td>Which technique surpassed all previous AI tech...</td>\n",
       "      <td>a : Search and mathematical optimization | b :...</td>\n",
       "      <td>c</td>\n",
       "    </tr>\n",
       "    <tr>\n",
       "      <th>4</th>\n",
       "      <td>What is among the long-term goals of AI research?</td>\n",
       "      <td>a : Building robots with emotions | b : Achiev...</td>\n",
       "      <td>b</td>\n",
       "    </tr>\n",
       "  </tbody>\n",
       "</table>\n",
       "</div>"
      ],
      "text/plain": [
       "                                                 mcq  \\\n",
       "0  What is the broadest sense of Artificial Intel...   \n",
       "1  Who was the first person to conduct substantia...   \n",
       "2  What is the field of research in computer scie...   \n",
       "3  Which technique surpassed all previous AI tech...   \n",
       "4  What is among the long-term goals of AI research?   \n",
       "\n",
       "                                             options correct  \n",
       "0  a : Intelligence exhibited by humans | b : Int...       b  \n",
       "1  a : John McCarthy | b : Marvin Minksy | c : Na...       d  \n",
       "2  a : Robotics | b : Artificial Intelligence | c...       b  \n",
       "3  a : Search and mathematical optimization | b :...       c  \n",
       "4  a : Building robots with emotions | b : Achiev...       b  "
      ]
     },
     "execution_count": 30,
     "metadata": {},
     "output_type": "execute_result"
    }
   ],
   "source": [
    "quiz"
   ]
  },
  {
   "cell_type": "code",
   "execution_count": 31,
   "metadata": {},
   "outputs": [],
   "source": [
    "quiz.to_csv(\"Artificial Intelligence.csv\",index=False)"
   ]
  },
  {
   "cell_type": "code",
   "execution_count": null,
   "metadata": {},
   "outputs": [],
   "source": []
  },
  {
   "cell_type": "code",
   "execution_count": 32,
   "metadata": {},
   "outputs": [
    {
     "data": {
      "text/plain": [
       "'07_07_2024_14_34_02.log'"
      ]
     },
     "execution_count": 32,
     "metadata": {},
     "output_type": "execute_result"
    }
   ],
   "source": [
    "from datetime import datetime\n",
    "f\"{datetime.now().strftime('%m_%d_%Y_%H_%M_%S')}.log\""
   ]
  },
  {
   "cell_type": "code",
   "execution_count": null,
   "metadata": {},
   "outputs": [],
   "source": []
  }
 ],
 "metadata": {
  "kernelspec": {
   "display_name": "Python 3",
   "language": "python",
   "name": "python3"
  },
  "language_info": {
   "codemirror_mode": {
    "name": "ipython",
    "version": 3
   },
   "file_extension": ".py",
   "mimetype": "text/x-python",
   "name": "python",
   "nbconvert_exporter": "python",
   "pygments_lexer": "ipython3",
   "version": "3.8.19"
  }
 },
 "nbformat": 4,
 "nbformat_minor": 2
}
